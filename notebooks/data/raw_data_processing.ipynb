{
 "cells": [
  {
   "cell_type": "code",
   "execution_count": null,
   "metadata": {
    "collapsed": false
   },
   "outputs": [],
   "source": [
    "import pandas as pd\n",
    "import ujson\n",
    "import random\n",
    "#from pandas.io.json import json_normalize\n",
    "import csv\n",
    "#import ijson\n",
    "#import sys\n",
    "#sys.setdefaultencoding('utf8')\n",
    "#reload(sys)"
   ]
  },
  {
   "cell_type": "code",
   "execution_count": null,
   "metadata": {
    "collapsed": false
   },
   "outputs": [],
   "source": [
    "# check to make sure default encoding is utf8, to decode unicode JSON files\n",
    "#sys.getdefaultencoding()"
   ]
  },
  {
   "cell_type": "code",
   "execution_count": null,
   "metadata": {
    "collapsed": true
   },
   "outputs": [],
   "source": [
    "# set filenames\n",
    "businessfile = '../../data/raw/yelp_academic_dataset_business.json'\n",
    "reviewfile = '../../data/raw/yelp_academic_dataset_review.json'\n",
    "userfile = '../../data/raw/yelp_academic_dataset_user.json'\n",
    "checkinfile = '../../data/raw/yelp_academic_dataset_checkin.json'\n",
    "tipfile = '../../data/raw/yelp_academic_dataset_tip.json'\n",
    "\n",
    "# set filesname for csv\n",
    "businesscsv = '../../data/interim/business.csv'\n",
    "reviewcsv = '../../data/interim/review.csv'\n",
    "usercsv = '../../data/interim/user.csv'\n",
    "checkincsv = '../../data/interim/checkin.csv'\n",
    "tipcsv = '../../data/interim/tip.csv'"
   ]
  },
  {
   "cell_type": "code",
   "execution_count": null,
   "metadata": {
    "collapsed": false
   },
   "outputs": [],
   "source": [
    "# get list of columns for every file\n",
    "with open(businessfile, 'r') as f:\n",
    "    businessheader = [str(key) for key in ujson.loads(f.readline())]\n",
    "    \n",
    "with open(reviewfile, 'r') as f:\n",
    "    reviewheader = [str(key) for key in ujson.loads(f.readline())]\n",
    "\n",
    "with open(userfile, 'r') as f:\n",
    "    userheader = [str(key) for key in ujson.loads(f.readline())]\n",
    "                  \n",
    "with open(checkinfile, 'r') as f:\n",
    "    checkinheader = [str(key) for key in ujson.loads(f.readline())]\n",
    "\n",
    "with open(tipfile, 'r') as f:\n",
    "    tipheader = [str(key) for key in ujson.loads(f.readline())]"
   ]
  },
  {
   "cell_type": "code",
   "execution_count": null,
   "metadata": {
    "collapsed": false
   },
   "outputs": [],
   "source": [
    "# Define function to write lines of a json to a csv file\n",
    "# Function processes each line separately to prevent reading entire .json into memory\n",
    "def json_to_csv(filename, header, csvfilename):\n",
    "    print 'Converting {0} to {1}'.format(filename, csvfilename)\n",
    "    count = 0\n",
    "    step = 100000\n",
    "\n",
    "    outputcsv = open(csvfilename, 'w')\n",
    "    #csvwriter = csv.DictWriter(outputcsv, fieldnames = [str(key) for key in ujson.loads(first_line)])\n",
    "    csvwriter = csv.writer(outputcsv)#, fieldnames = [str(key) for key in ujson.loads(first_line)])\n",
    "\n",
    "    with open(filename, 'r') as f:\n",
    "        csvwriter.writerow(header)\n",
    "        for line in f:\n",
    "            count += 1\n",
    "            #row = ujson.loads(line)\n",
    "            #csvwriter.writerow(ujson.loads(line))\n",
    "            row = ujson.loads(line)\n",
    "            #csvwriter.writerow([x.encode(\"utf-8\") for x in row])\n",
    "            csvwriter.writerow([unicode(v).encode(\"utf-8\") for k,v in row.iteritems()])\n",
    "            if (count % step) == 0:\n",
    "                #print ujson.loads(line)\n",
    "                print 'Read {0} records'.format(count)\n",
    "            \n",
    "            #if count > 500000:\n",
    "                #break\n",
    "    print 'Finished output to {0}'.format(csvfilename)\n",
    "    outputcsv.close()"
   ]
  },
  {
   "cell_type": "code",
   "execution_count": null,
   "metadata": {
    "collapsed": false
   },
   "outputs": [],
   "source": [
    "# convert all the jsons, outputting to data/interim\n",
    "json_to_csv(businessfile, businessheader, businesscsv)\n",
    "json_to_csv(reviewfile, reviewheader, reviewcsv)\n",
    "json_to_csv(userfile, userheader, usercsv)\n",
    "json_to_csv(checkinfile, checkinheader, checkincsv)\n",
    "json_to_csv(tipfile, tipheader, tipcsv)"
   ]
  },
  {
   "cell_type": "code",
   "execution_count": null,
   "metadata": {
    "collapsed": false
   },
   "outputs": [],
   "source": [
    "# define function to sample csv and output another csv\n",
    "def output_sample(intputfile, outputfile, sample_percent):\n",
    "    n = sum(1 for line in open(intputfile)) - 1\n",
    "    s = int(n*sample_percent)\n",
    "    skip = sorted(random.sample(xrange(1,n+1),n-s))\n",
    "    pd.read_csv(intputfile, skiprows=skip).to_csv(outputfile)\n",
    "    print 'Completed output of sample to {0}'.format(outputfile)"
   ]
  },
  {
   "cell_type": "code",
   "execution_count": null,
   "metadata": {
    "collapsed": false
   },
   "outputs": [],
   "source": [
    "output_sample(reviewcsv, '../../data/interim/review_sample.csv', .05)\n",
    "output_sample(usercsv, '../../data/interim/user_sample.csv', .3)"
   ]
  }
 ],
 "metadata": {
  "anaconda-cloud": {},
  "kernelspec": {
   "display_name": "Python [conda env:yelp]",
   "language": "python",
   "name": "conda-env-yelp-py"
  },
  "language_info": {
   "codemirror_mode": {
    "name": "ipython",
    "version": 2
   },
   "file_extension": ".py",
   "mimetype": "text/x-python",
   "name": "python",
   "nbconvert_exporter": "python",
   "pygments_lexer": "ipython2",
   "version": "2.7.13"
  }
 },
 "nbformat": 4,
 "nbformat_minor": 2
}
